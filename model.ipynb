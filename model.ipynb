{
 "cells": [
  {
   "cell_type": "code",
   "execution_count": 10,
   "metadata": {},
   "outputs": [],
   "source": [
    "import pandas as pd\n",
    "from sklearn.ensemble import RandomForestClassifier\n",
    "from sklearn.preprocessing import LabelEncoder\n",
    "from sklearn.model_selection import train_test_split\n",
    "import joblib"
   ]
  },
  {
   "cell_type": "code",
   "execution_count": 11,
   "metadata": {},
   "outputs": [
    {
     "name": "stdout",
     "output_type": "stream",
     "text": [
      "   income  essential_spending  discretionary_spending  savings  \\\n",
      "0  141958               64268                   33289    36909   \n",
      "1   35795               28141                   33024    24803   \n",
      "2   20860               66044                    6777    20870   \n",
      "3  123694               77214                   31749    35578   \n",
      "4  148106               43827                   17338     7588   \n",
      "\n",
      "  financial_health  \n",
      "0          Healthy  \n",
      "1          Healthy  \n",
      "2          Healthy  \n",
      "3          Healthy  \n",
      "4             Poor  \n"
     ]
    }
   ],
   "source": [
    "# Load the CSV file\n",
    "df = pd.read_csv('dummy_financial_data.csv')\n",
    "print(df.head())\n"
   ]
  },
  {
   "cell_type": "code",
   "execution_count": 12,
   "metadata": {},
   "outputs": [],
   "source": [
    "# Features and target\n",
    "X = df[['income', 'essential_spending', 'discretionary_spending', 'savings']]\n",
    "y = df['financial_health']\n",
    "\n",
    "# Encode target labels (Healthy, Moderate, Poor)\n",
    "le = LabelEncoder()\n",
    "y_encoded = le.fit_transform(y)  # Converts to 0, 1, 2\n"
   ]
  },
  {
   "cell_type": "code",
   "execution_count": 13,
   "metadata": {},
   "outputs": [],
   "source": [
    "# Split into training and test sets\n",
    "X_train, X_test, y_train, y_test = train_test_split(X, y_encoded, test_size=0.2, random_state=42)\n"
   ]
  },
  {
   "cell_type": "code",
   "execution_count": 14,
   "metadata": {},
   "outputs": [
    {
     "name": "stdout",
     "output_type": "stream",
     "text": [
      "              precision    recall  f1-score   support\n",
      "\n",
      "     Healthy       0.95      0.95      0.95        21\n",
      "    Moderate       0.92      0.92      0.92        12\n",
      "        Poor       1.00      1.00      1.00         7\n",
      "\n",
      "    accuracy                           0.95        40\n",
      "   macro avg       0.96      0.96      0.96        40\n",
      "weighted avg       0.95      0.95      0.95        40\n",
      "\n"
     ]
    }
   ],
   "source": [
    "from sklearn.ensemble import RandomForestClassifier\n",
    "from sklearn.metrics import classification_report\n",
    "\n",
    "# Initialize and train model\n",
    "model = RandomForestClassifier(n_estimators=100, random_state=42)\n",
    "model.fit(X_train, y_train)\n",
    "\n",
    "# Predict and evaluate\n",
    "y_pred = model.predict(X_test)\n",
    "print(classification_report(y_test, y_pred, target_names=le.classes_))\n"
   ]
  },
  {
   "cell_type": "code",
   "execution_count": 16,
   "metadata": {},
   "outputs": [
    {
     "data": {
      "text/plain": [
       "['label_encoder.pkl']"
      ]
     },
     "execution_count": 16,
     "metadata": {},
     "output_type": "execute_result"
    }
   ],
   "source": [
    "# Save trained model\n",
    "joblib.dump(model, 'model.pkl')\n",
    "\n",
    "# Save label encoder\n",
    "joblib.dump(le, 'label_encoder.pkl')"
   ]
  },
  {
   "cell_type": "code",
   "execution_count": 17,
   "metadata": {},
   "outputs": [],
   "source": [
    "def predict_financial_health(income, essential_spending, discretionary_spending, savings):\n",
    "    input_df = pd.DataFrame([{\n",
    "        'income': income,\n",
    "        'essential_spending': essential_spending,\n",
    "        'discretionary_spending': discretionary_spending,\n",
    "        'savings': savings\n",
    "    }])\n",
    "    \n",
    "    pred = model.predict(input_df)[0]\n",
    "    label = le.inverse_transform([pred])[0]\n",
    "    \n",
    "    # Optional recommendation message\n",
    "    if label == 'Healthy':\n",
    "        advice = \"✅ You're financially healthy. Keep it up and start investing.\"\n",
    "    elif label == 'Moderate':\n",
    "        advice = \"⚠️ Fair condition. Try to increase your monthly savings.\"\n",
    "    else:\n",
    "        advice = \"🚨 Financial health is poor. Cut expenses and save more urgently.\"\n",
    "    \n",
    "    return f\"Prediction: {label}\\nAdvice: {advice}\"\n"
   ]
  },
  {
   "cell_type": "code",
   "execution_count": 18,
   "metadata": {},
   "outputs": [
    {
     "name": "stdout",
     "output_type": "stream",
     "text": [
      "Prediction: Poor\n",
      "Advice: 🚨 Financial health is poor. Cut expenses and save more urgently.\n"
     ]
    }
   ],
   "source": [
    "print(predict_financial_health(60000, 25000, 20000, 5000))\n"
   ]
  },
  {
   "cell_type": "code",
   "execution_count": null,
   "metadata": {},
   "outputs": [],
   "source": []
  }
 ],
 "metadata": {
  "kernelspec": {
   "display_name": "Python 3",
   "language": "python",
   "name": "python3"
  },
  "language_info": {
   "codemirror_mode": {
    "name": "ipython",
    "version": 3
   },
   "file_extension": ".py",
   "mimetype": "text/x-python",
   "name": "python",
   "nbconvert_exporter": "python",
   "pygments_lexer": "ipython3",
   "version": "3.10.1"
  }
 },
 "nbformat": 4,
 "nbformat_minor": 2
}
